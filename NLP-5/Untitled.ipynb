{
 "cells": [
  {
   "cell_type": "markdown",
   "metadata": {},
   "source": [
    "# NLP-5"
   ]
  },
  {
   "cell_type": "markdown",
   "metadata": {},
   "source": [
    "## TF-IDF"
   ]
  },
  {
   "cell_type": "code",
   "execution_count": 10,
   "metadata": {},
   "outputs": [],
   "source": [
    "import nltk\n",
    "import re\n",
    "from nltk.stem import WordNetLemmatizer\n",
    "from nltk.corpus import stopwords"
   ]
  },
  {
   "cell_type": "code",
   "execution_count": 11,
   "metadata": {},
   "outputs": [],
   "source": [
    "paragraph= \"A core concept of NLP can be summarized by the saying, “The map is not the territory,” because it highlights the differences between belief and reality. It points out that each person operates within their own perspective rather than from a place of objectivity. Proponents of NLP believe everyone’s perception of the world is distorted, limited, and unique. A therapist who practices NLP must therefore understand how a person in treatment perceives their “map” and the effect this perception may have on that person’s thoughts and behavior. An individual’s map of the world is formed from data received through the senses. This information can be auditory, visual, olfactory, gustatory, or kinesthetic. NLP practitioners believe this information differs individually in terms of quality and importance, and that each person processes experiences using a primary representational system (PRS). For an NLP therapist to work effectively with a person in treatment, the therapist must attempt to match that individual’s PRS to use their personal map. NLP practitioners believe it is possible to access representational systems using cues, such as eye movements.NLP therapists work with people to understand their thinking and behavioral patterns, emotional state, and aspirations. By examining a person’s map, the therapist can help them find and strengthen the skills that serve them best and assist them in developing new strategies to replace unproductive ones. This process can help individuals in therapy reach treatment goals.Supporters of NLP claim the approach produces fast, lasting results and improves understanding of cognitive and behavioral patterns. NLP also seeks to build effective communication between conscious and unconscious mental processes to help people increase creativity and problem-solving skills. Some advocates of NLP compare the approach to cognitive behavioral therapy (CBT) but assert positive changes may be made with NLP in less time.\""
   ]
  },
  {
   "cell_type": "code",
   "execution_count": 12,
   "metadata": {},
   "outputs": [
    {
     "data": {
      "text/plain": [
       "'A core concept of NLP can be summarized by the saying, “The map is not the territory,” because it highlights the differences between belief and reality. It points out that each person operates within their own perspective rather than from a place of objectivity. Proponents of NLP believe everyone’s perception of the world is distorted, limited, and unique. A therapist who practices NLP must therefore understand how a person in treatment perceives their “map” and the effect this perception may have on that person’s thoughts and behavior. An individual’s map of the world is formed from data received through the senses. This information can be auditory, visual, olfactory, gustatory, or kinesthetic. NLP practitioners believe this information differs individually in terms of quality and importance, and that each person processes experiences using a primary representational system (PRS). For an NLP therapist to work effectively with a person in treatment, the therapist must attempt to match that individual’s PRS to use their personal map. NLP practitioners believe it is possible to access representational systems using cues, such as eye movements.NLP therapists work with people to understand their thinking and behavioral patterns, emotional state, and aspirations. By examining a person’s map, the therapist can help them find and strengthen the skills that serve them best and assist them in developing new strategies to replace unproductive ones. This process can help individuals in therapy reach treatment goals.Supporters of NLP claim the approach produces fast, lasting results and improves understanding of cognitive and behavioral patterns. NLP also seeks to build effective communication between conscious and unconscious mental processes to help people increase creativity and problem-solving skills. Some advocates of NLP compare the approach to cognitive behavioral therapy (CBT) but assert positive changes may be made with NLP in less time.'"
      ]
     },
     "execution_count": 12,
     "metadata": {},
     "output_type": "execute_result"
    }
   ],
   "source": [
    "paragraph"
   ]
  },
  {
   "cell_type": "code",
   "execution_count": 20,
   "metadata": {},
   "outputs": [],
   "source": [
    "sentence=nltk.sent_tokenize(paragraph)"
   ]
  },
  {
   "cell_type": "code",
   "execution_count": 21,
   "metadata": {},
   "outputs": [
    {
     "data": {
      "text/plain": [
       "['A core concept of NLP can be summarized by the saying, “The map is not the territory,” because it highlights the differences between belief and reality.',\n",
       " 'It points out that each person operates within their own perspective rather than from a place of objectivity.',\n",
       " 'Proponents of NLP believe everyone’s perception of the world is distorted, limited, and unique.',\n",
       " 'A therapist who practices NLP must therefore understand how a person in treatment perceives their “map” and the effect this perception may have on that person’s thoughts and behavior.',\n",
       " 'An individual’s map of the world is formed from data received through the senses.',\n",
       " 'This information can be auditory, visual, olfactory, gustatory, or kinesthetic.',\n",
       " 'NLP practitioners believe this information differs individually in terms of quality and importance, and that each person processes experiences using a primary representational system (PRS).',\n",
       " 'For an NLP therapist to work effectively with a person in treatment, the therapist must attempt to match that individual’s PRS to use their personal map.',\n",
       " 'NLP practitioners believe it is possible to access representational systems using cues, such as eye movements.NLP therapists work with people to understand their thinking and behavioral patterns, emotional state, and aspirations.',\n",
       " 'By examining a person’s map, the therapist can help them find and strengthen the skills that serve them best and assist them in developing new strategies to replace unproductive ones.',\n",
       " 'This process can help individuals in therapy reach treatment goals.Supporters of NLP claim the approach produces fast, lasting results and improves understanding of cognitive and behavioral patterns.',\n",
       " 'NLP also seeks to build effective communication between conscious and unconscious mental processes to help people increase creativity and problem-solving skills.',\n",
       " 'Some advocates of NLP compare the approach to cognitive behavioral therapy (CBT) but assert positive changes may be made with NLP in less time.']"
      ]
     },
     "execution_count": 21,
     "metadata": {},
     "output_type": "execute_result"
    }
   ],
   "source": [
    "sentence"
   ]
  },
  {
   "cell_type": "code",
   "execution_count": 22,
   "metadata": {},
   "outputs": [],
   "source": [
    "lem=WordNetLemmatizer()\n",
    "corpus=[]"
   ]
  },
  {
   "cell_type": "code",
   "execution_count": 23,
   "metadata": {},
   "outputs": [],
   "source": [
    "for i in range(len(sentence)):\n",
    "    s=re.sub('[^a-zA-Z]',' ',sentence[i])\n",
    "    s=s.lower()\n",
    "    s=s.split()\n",
    "    s= [lem.lemmatize(word) for word in s if word not in set(stopwords.words('english'))]\n",
    "    s=' '.join(s)\n",
    "    corpus.append(s)"
   ]
  },
  {
   "cell_type": "code",
   "execution_count": 24,
   "metadata": {},
   "outputs": [],
   "source": [
    "from sklearn.feature_extraction.text import TfidfVectorizer"
   ]
  },
  {
   "cell_type": "code",
   "execution_count": 27,
   "metadata": {},
   "outputs": [],
   "source": [
    "tfidf=TfidfVectorizer()\n",
    "Fnl=tfidf.fit_transform(corpus).toarray()"
   ]
  },
  {
   "cell_type": "code",
   "execution_count": 28,
   "metadata": {},
   "outputs": [
    {
     "data": {
      "text/plain": [
       "array([[0.        , 0.        , 0.        , ..., 0.        , 0.        ,\n",
       "        0.        ],\n",
       "       [0.        , 0.        , 0.        , ..., 0.36777585, 0.        ,\n",
       "        0.        ],\n",
       "       [0.        , 0.        , 0.        , ..., 0.        , 0.        ,\n",
       "        0.31965842],\n",
       "       ...,\n",
       "       [0.        , 0.        , 0.        , ..., 0.        , 0.        ,\n",
       "        0.        ],\n",
       "       [0.        , 0.        , 0.25938861, ..., 0.        , 0.        ,\n",
       "        0.        ],\n",
       "       [0.        , 0.2733554 , 0.        , ..., 0.        , 0.        ,\n",
       "        0.        ]])"
      ]
     },
     "execution_count": 28,
     "metadata": {},
     "output_type": "execute_result"
    }
   ],
   "source": [
    "Fnl"
   ]
  },
  {
   "cell_type": "code",
   "execution_count": null,
   "metadata": {},
   "outputs": [],
   "source": []
  }
 ],
 "metadata": {
  "kernelspec": {
   "display_name": "Python 3",
   "language": "python",
   "name": "python3"
  },
  "language_info": {
   "codemirror_mode": {
    "name": "ipython",
    "version": 3
   },
   "file_extension": ".py",
   "mimetype": "text/x-python",
   "name": "python",
   "nbconvert_exporter": "python",
   "pygments_lexer": "ipython3",
   "version": "3.8.3"
  }
 },
 "nbformat": 4,
 "nbformat_minor": 4
}
