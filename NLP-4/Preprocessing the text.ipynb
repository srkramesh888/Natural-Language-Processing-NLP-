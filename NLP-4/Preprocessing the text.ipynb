{
 "cells": [
  {
   "cell_type": "code",
   "execution_count": 13,
   "metadata": {},
   "outputs": [],
   "source": [
    "import nltk\n",
    "import re\n",
    "from nltk.stem.porter import PorterStemmer\n",
    "from nltk.stem import WordNetLemmatizer\n",
    "from nltk.corpus import stopwords"
   ]
  },
  {
   "cell_type": "code",
   "execution_count": 14,
   "metadata": {},
   "outputs": [],
   "source": [
    "paragraph= \"A core concept of NLP can be summarized by the saying, “The map is not the territory,” because it highlights the differences between belief and reality. It points out that each person operates within their own perspective rather than from a place of objectivity. Proponents of NLP believe everyone’s perception of the world is distorted, limited, and unique. A therapist who practices NLP must therefore understand how a person in treatment perceives their “map” and the effect this perception may have on that person’s thoughts and behavior. An individual’s map of the world is formed from data received through the senses. This information can be auditory, visual, olfactory, gustatory, or kinesthetic. NLP practitioners believe this information differs individually in terms of quality and importance, and that each person processes experiences using a primary representational system (PRS). For an NLP therapist to work effectively with a person in treatment, the therapist must attempt to match that individual’s PRS to use their personal map. NLP practitioners believe it is possible to access representational systems using cues, such as eye movements.NLP therapists work with people to understand their thinking and behavioral patterns, emotional state, and aspirations. By examining a person’s map, the therapist can help them find and strengthen the skills that serve them best and assist them in developing new strategies to replace unproductive ones. This process can help individuals in therapy reach treatment goals.Supporters of NLP claim the approach produces fast, lasting results and improves understanding of cognitive and behavioral patterns. NLP also seeks to build effective communication between conscious and unconscious mental processes to help people increase creativity and problem-solving skills. Some advocates of NLP compare the approach to cognitive behavioral therapy (CBT) but assert positive changes may be made with NLP in less time.\""
   ]
  },
  {
   "cell_type": "code",
   "execution_count": 15,
   "metadata": {},
   "outputs": [
    {
     "data": {
      "text/plain": [
       "'A core concept of NLP can be summarized by the saying, “The map is not the territory,” because it highlights the differences between belief and reality. It points out that each person operates within their own perspective rather than from a place of objectivity. Proponents of NLP believe everyone’s perception of the world is distorted, limited, and unique. A therapist who practices NLP must therefore understand how a person in treatment perceives their “map” and the effect this perception may have on that person’s thoughts and behavior. An individual’s map of the world is formed from data received through the senses. This information can be auditory, visual, olfactory, gustatory, or kinesthetic. NLP practitioners believe this information differs individually in terms of quality and importance, and that each person processes experiences using a primary representational system (PRS). For an NLP therapist to work effectively with a person in treatment, the therapist must attempt to match that individual’s PRS to use their personal map. NLP practitioners believe it is possible to access representational systems using cues, such as eye movements.NLP therapists work with people to understand their thinking and behavioral patterns, emotional state, and aspirations. By examining a person’s map, the therapist can help them find and strengthen the skills that serve them best and assist them in developing new strategies to replace unproductive ones. This process can help individuals in therapy reach treatment goals.Supporters of NLP claim the approach produces fast, lasting results and improves understanding of cognitive and behavioral patterns. NLP also seeks to build effective communication between conscious and unconscious mental processes to help people increase creativity and problem-solving skills. Some advocates of NLP compare the approach to cognitive behavioral therapy (CBT) but assert positive changes may be made with NLP in less time.'"
      ]
     },
     "execution_count": 15,
     "metadata": {},
     "output_type": "execute_result"
    }
   ],
   "source": [
    "paragraph"
   ]
  },
  {
   "cell_type": "code",
   "execution_count": 16,
   "metadata": {},
   "outputs": [],
   "source": [
    "ps=PorterStemmer()"
   ]
  },
  {
   "cell_type": "code",
   "execution_count": 17,
   "metadata": {},
   "outputs": [],
   "source": [
    "wordnet= WordNetLemmatizer()"
   ]
  },
  {
   "cell_type": "code",
   "execution_count": 18,
   "metadata": {},
   "outputs": [],
   "source": [
    "sentences=nltk.sent_tokenize(paragraph)"
   ]
  },
  {
   "cell_type": "code",
   "execution_count": 26,
   "metadata": {},
   "outputs": [
    {
     "data": {
      "text/plain": [
       "['acoreconceptofnlpcanbesummarizedbythesayingthemapisnottheterritorybecauseithighlightsthedifferencesbetweenbeliefandr',\n",
       " 'itpointsoutthateachpersonoperateswithintheirownperspectiveratherthanfromaplaceofobject',\n",
       " 'proponentsofnlpbelieveeveryonesperceptionoftheworldisdistortedlimitedanduniqu',\n",
       " 'atherapistwhopracticesnlpmustthereforeunderstandhowapersonintreatmentperceivestheirmapandtheeffectthisperceptionmayhaveonthatpersonsthoughtsandbehavior',\n",
       " 'anindividualsmapoftheworldisformedfromdatareceivedthroughthesens',\n",
       " 'thisinformationcanbeauditoryvisualolfactorygustatoryorkinesthet',\n",
       " 'nlppractitionersbelievethisinformationdiffersindividuallyintermsofqualityandimportanceandthateachpersonprocessesexperiencesusingaprimaryrepresentationalsystempr',\n",
       " 'forannlptherapisttoworkeffectivelywithapersonintreatmentthetherapistmustattempttomatchthatindividualsprstousetheirpersonalmap',\n",
       " 'nlppractitionersbelieveitispossibletoaccessrepresentationalsystemsusingcuessuchaseyemovementsnlptherapistsworkwithpeopletounderstandtheirthinkingandbehavioralpatternsemotionalstateandaspir',\n",
       " 'byexaminingapersonsmapthetherapistcanhelpthemfindandstrengthentheskillsthatservethembestandassistthemindevelopingnewstrategiestoreplaceunproductiveon',\n",
       " 'thisprocesscanhelpindividualsintherapyreachtreatmentgoalssupportersofnlpclaimtheapproachproducesfastlastingresultsandimprovesunderstandingofcognitiveandbehavioralpattern',\n",
       " 'nlpalsoseekstobuildeffectivecommunicationbetweenconsciousandunconsciousmentalprocessestohelppeopleincreasecreativityandproblemsolvingskil',\n",
       " 'someadvocatesofnlpcomparetheapproachtocognitivebehavioraltherapycbtbutassertpositivechangesmaybemadewithnlpinlesstim']"
      ]
     },
     "execution_count": 26,
     "metadata": {},
     "output_type": "execute_result"
    }
   ],
   "source": [
    "corpus=[]\n",
    "for i in range(len(sentences)):\n",
    "    review =re.sub('[^a-zA-Z]','',sentences[i])\n",
    "    review=review.lower()\n",
    "    review=review.split()\n",
    "    review=[ps.stem(word) for word in review if not word in set(stopwords.words('english'))]\n",
    "    review=' '.join(review)\n",
    "    corpus.append(review)\n",
    "corpus"
   ]
  },
  {
   "cell_type": "code",
   "execution_count": 23,
   "metadata": {},
   "outputs": [],
   "source": [
    "from sklearn.feature_extraction.text import CountVectorizer"
   ]
  },
  {
   "cell_type": "code",
   "execution_count": 25,
   "metadata": {},
   "outputs": [
    {
     "data": {
      "text/plain": [
       "array([[1, 0, 0, 0, 0, 0, 0, 0, 0, 0, 0, 0, 0],\n",
       "       [0, 0, 0, 0, 0, 1, 0, 0, 0, 0, 0, 0, 0],\n",
       "       [0, 0, 0, 0, 0, 0, 0, 0, 0, 1, 0, 0, 0],\n",
       "       [0, 0, 1, 0, 0, 0, 0, 0, 0, 0, 0, 0, 0],\n",
       "       [0, 1, 0, 0, 0, 0, 0, 0, 0, 0, 0, 0, 0],\n",
       "       [0, 0, 0, 0, 0, 0, 0, 0, 0, 0, 0, 1, 0],\n",
       "       [0, 0, 0, 0, 0, 0, 0, 0, 1, 0, 0, 0, 0],\n",
       "       [0, 0, 0, 0, 1, 0, 0, 0, 0, 0, 0, 0, 0],\n",
       "       [0, 0, 0, 0, 0, 0, 0, 1, 0, 0, 0, 0, 0],\n",
       "       [0, 0, 0, 1, 0, 0, 0, 0, 0, 0, 0, 0, 0],\n",
       "       [0, 0, 0, 0, 0, 0, 0, 0, 0, 0, 0, 0, 1],\n",
       "       [0, 0, 0, 0, 0, 0, 1, 0, 0, 0, 0, 0, 0],\n",
       "       [0, 0, 0, 0, 0, 0, 0, 0, 0, 0, 1, 0, 0]], dtype=int64)"
      ]
     },
     "execution_count": 25,
     "metadata": {},
     "output_type": "execute_result"
    }
   ],
   "source": [
    "cv=CountVectorizer(max_features=1500)\n",
    "x=cv.fit_transform(corpus).toarray()\n",
    "x"
   ]
  }
 ],
 "metadata": {
  "kernelspec": {
   "display_name": "Python 3",
   "language": "python",
   "name": "python3"
  },
  "language_info": {
   "codemirror_mode": {
    "name": "ipython",
    "version": 3
   },
   "file_extension": ".py",
   "mimetype": "text/x-python",
   "name": "python",
   "nbconvert_exporter": "python",
   "pygments_lexer": "ipython3",
   "version": "3.8.3"
  }
 },
 "nbformat": 4,
 "nbformat_minor": 4
}
