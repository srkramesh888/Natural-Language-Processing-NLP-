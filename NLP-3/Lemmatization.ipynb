{
 "cells": [
  {
   "cell_type": "markdown",
   "metadata": {},
   "source": [
    "# NLP-3"
   ]
  },
  {
   "cell_type": "markdown",
   "metadata": {},
   "source": [
    "## Lemmatization\n",
    "difference between lemmatization and stemming is that stemming will divide the word into base word without any meaning, but in lemmatization divides the word into meaningful base word"
   ]
  },
  {
   "cell_type": "code",
   "execution_count": 7,
   "metadata": {},
   "outputs": [],
   "source": [
    "import nltk\n",
    "from nltk.stem import WordNetLemmatizer\n",
    "from nltk.corpus import stopwords"
   ]
  },
  {
   "cell_type": "code",
   "execution_count": 8,
   "metadata": {},
   "outputs": [],
   "source": [
    "paragraph= \"A core concept of NLP can be summarized by the saying, “The map is not the territory,” because it highlights the differences between belief and reality. It points out that each person operates within their own perspective rather than from a place of objectivity. Proponents of NLP believe everyone’s perception of the world is distorted, limited, and unique. A therapist who practices NLP must therefore understand how a person in treatment perceives their “map” and the effect this perception may have on that person’s thoughts and behavior. An individual’s map of the world is formed from data received through the senses. This information can be auditory, visual, olfactory, gustatory, or kinesthetic. NLP practitioners believe this information differs individually in terms of quality and importance, and that each person processes experiences using a primary representational system (PRS). For an NLP therapist to work effectively with a person in treatment, the therapist must attempt to match that individual’s PRS to use their personal map. NLP practitioners believe it is possible to access representational systems using cues, such as eye movements.NLP therapists work with people to understand their thinking and behavioral patterns, emotional state, and aspirations. By examining a person’s map, the therapist can help them find and strengthen the skills that serve them best and assist them in developing new strategies to replace unproductive ones. This process can help individuals in therapy reach treatment goals.Supporters of NLP claim the approach produces fast, lasting results and improves understanding of cognitive and behavioral patterns. NLP also seeks to build effective communication between conscious and unconscious mental processes to help people increase creativity and problem-solving skills. Some advocates of NLP compare the approach to cognitive behavioral therapy (CBT) but assert positive changes may be made with NLP in less time.\""
   ]
  },
  {
   "cell_type": "code",
   "execution_count": 9,
   "metadata": {},
   "outputs": [
    {
     "data": {
      "text/plain": [
       "'A core concept of NLP can be summarized by the saying, “The map is not the territory,” because it highlights the differences between belief and reality. It points out that each person operates within their own perspective rather than from a place of objectivity. Proponents of NLP believe everyone’s perception of the world is distorted, limited, and unique. A therapist who practices NLP must therefore understand how a person in treatment perceives their “map” and the effect this perception may have on that person’s thoughts and behavior. An individual’s map of the world is formed from data received through the senses. This information can be auditory, visual, olfactory, gustatory, or kinesthetic. NLP practitioners believe this information differs individually in terms of quality and importance, and that each person processes experiences using a primary representational system (PRS). For an NLP therapist to work effectively with a person in treatment, the therapist must attempt to match that individual’s PRS to use their personal map. NLP practitioners believe it is possible to access representational systems using cues, such as eye movements.NLP therapists work with people to understand their thinking and behavioral patterns, emotional state, and aspirations. By examining a person’s map, the therapist can help them find and strengthen the skills that serve them best and assist them in developing new strategies to replace unproductive ones. This process can help individuals in therapy reach treatment goals.Supporters of NLP claim the approach produces fast, lasting results and improves understanding of cognitive and behavioral patterns. NLP also seeks to build effective communication between conscious and unconscious mental processes to help people increase creativity and problem-solving skills. Some advocates of NLP compare the approach to cognitive behavioral therapy (CBT) but assert positive changes may be made with NLP in less time.'"
      ]
     },
     "execution_count": 9,
     "metadata": {},
     "output_type": "execute_result"
    }
   ],
   "source": [
    "paragraph"
   ]
  },
  {
   "cell_type": "code",
   "execution_count": 10,
   "metadata": {},
   "outputs": [],
   "source": [
    "sentence=nltk.sent_tokenize(paragraph)"
   ]
  },
  {
   "cell_type": "code",
   "execution_count": 11,
   "metadata": {},
   "outputs": [
    {
     "data": {
      "text/plain": [
       "['A core concept of NLP can be summarized by the saying, “The map is not the territory,” because it highlights the differences between belief and reality.',\n",
       " 'It points out that each person operates within their own perspective rather than from a place of objectivity.',\n",
       " 'Proponents of NLP believe everyone’s perception of the world is distorted, limited, and unique.',\n",
       " 'A therapist who practices NLP must therefore understand how a person in treatment perceives their “map” and the effect this perception may have on that person’s thoughts and behavior.',\n",
       " 'An individual’s map of the world is formed from data received through the senses.',\n",
       " 'This information can be auditory, visual, olfactory, gustatory, or kinesthetic.',\n",
       " 'NLP practitioners believe this information differs individually in terms of quality and importance, and that each person processes experiences using a primary representational system (PRS).',\n",
       " 'For an NLP therapist to work effectively with a person in treatment, the therapist must attempt to match that individual’s PRS to use their personal map.',\n",
       " 'NLP practitioners believe it is possible to access representational systems using cues, such as eye movements.NLP therapists work with people to understand their thinking and behavioral patterns, emotional state, and aspirations.',\n",
       " 'By examining a person’s map, the therapist can help them find and strengthen the skills that serve them best and assist them in developing new strategies to replace unproductive ones.',\n",
       " 'This process can help individuals in therapy reach treatment goals.Supporters of NLP claim the approach produces fast, lasting results and improves understanding of cognitive and behavioral patterns.',\n",
       " 'NLP also seeks to build effective communication between conscious and unconscious mental processes to help people increase creativity and problem-solving skills.',\n",
       " 'Some advocates of NLP compare the approach to cognitive behavioral therapy (CBT) but assert positive changes may be made with NLP in less time.']"
      ]
     },
     "execution_count": 11,
     "metadata": {},
     "output_type": "execute_result"
    }
   ],
   "source": [
    "sentence"
   ]
  },
  {
   "cell_type": "code",
   "execution_count": 16,
   "metadata": {},
   "outputs": [],
   "source": [
    "sentences=[]\n",
    "wrds=[]\n",
    "lem=WordNetLemmatizer()\n",
    "for i in range(len(sentence)):\n",
    "    words=nltk.word_tokenize(sentence[i])\n",
    "    words = [lem.lemmatize(word) for word in words if word not in set(stopwords.words('english'))] # removing stopwords like of ,and ,is...etc\n",
    "    sentence[i] = ' '.join(words)\n",
    "    wrds.append(words)\n",
    "    sentences.append(sentence[i])"
   ]
  },
  {
   "cell_type": "code",
   "execution_count": 18,
   "metadata": {},
   "outputs": [
    {
     "data": {
      "text/plain": [
       "['A core concept NLP summarized saying , “ The map territory , ” highlight difference belief reality .',\n",
       " 'It point person operates within perspective rather place objectivity .',\n",
       " 'Proponents NLP believe everyone ’ perception world distorted , limited , unique .',\n",
       " 'A therapist practice NLP must therefore understand person treatment perceives “ map ” effect perception may person ’ thought behavior .',\n",
       " 'An individual ’ map world formed data received sen .',\n",
       " 'This information auditory , visual , olfactory , gustatory , kinesthetic .',\n",
       " 'NLP practitioner believe information differs individually term quality importance , person process experience using primary representational system ( PRS ) .',\n",
       " 'For NLP therapist work effectively person treatment , therapist must attempt match individual ’ PRS use personal map .',\n",
       " 'NLP practitioner believe possible access representational system using cue , eye movements.NLP therapist work people understand thinking behavioral pattern , emotional state , aspiration .',\n",
       " 'By examining person ’ map , therapist help find strengthen skill serve best assist developing new strategy replace unproductive one .',\n",
       " 'This process help individual therapy reach treatment goals.Supporters NLP claim approach produce fast , lasting result improves understanding cognitive behavioral pattern .',\n",
       " 'NLP also seek build effective communication conscious unconscious mental process help people increase creativity problem-solving skill .',\n",
       " 'Some advocate NLP compare approach cognitive behavioral therapy ( CBT ) assert positive change may made NLP le time .']"
      ]
     },
     "execution_count": 18,
     "metadata": {},
     "output_type": "execute_result"
    }
   ],
   "source": [
    "sentences"
   ]
  },
  {
   "cell_type": "code",
   "execution_count": 19,
   "metadata": {},
   "outputs": [
    {
     "data": {
      "text/plain": [
       "[['A',\n",
       "  'core',\n",
       "  'concept',\n",
       "  'NLP',\n",
       "  'summarized',\n",
       "  'saying',\n",
       "  ',',\n",
       "  '“',\n",
       "  'The',\n",
       "  'map',\n",
       "  'territory',\n",
       "  ',',\n",
       "  '”',\n",
       "  'highlight',\n",
       "  'difference',\n",
       "  'belief',\n",
       "  'reality',\n",
       "  '.'],\n",
       " ['It',\n",
       "  'point',\n",
       "  'person',\n",
       "  'operates',\n",
       "  'within',\n",
       "  'perspective',\n",
       "  'rather',\n",
       "  'place',\n",
       "  'objectivity',\n",
       "  '.'],\n",
       " ['Proponents',\n",
       "  'NLP',\n",
       "  'believe',\n",
       "  'everyone',\n",
       "  '’',\n",
       "  'perception',\n",
       "  'world',\n",
       "  'distorted',\n",
       "  ',',\n",
       "  'limited',\n",
       "  ',',\n",
       "  'unique',\n",
       "  '.'],\n",
       " ['A',\n",
       "  'therapist',\n",
       "  'practice',\n",
       "  'NLP',\n",
       "  'must',\n",
       "  'therefore',\n",
       "  'understand',\n",
       "  'person',\n",
       "  'treatment',\n",
       "  'perceives',\n",
       "  '“',\n",
       "  'map',\n",
       "  '”',\n",
       "  'effect',\n",
       "  'perception',\n",
       "  'may',\n",
       "  'person',\n",
       "  '’',\n",
       "  'thought',\n",
       "  'behavior',\n",
       "  '.'],\n",
       " ['An',\n",
       "  'individual',\n",
       "  '’',\n",
       "  'map',\n",
       "  'world',\n",
       "  'formed',\n",
       "  'data',\n",
       "  'received',\n",
       "  'sen',\n",
       "  '.'],\n",
       " ['This',\n",
       "  'information',\n",
       "  'auditory',\n",
       "  ',',\n",
       "  'visual',\n",
       "  ',',\n",
       "  'olfactory',\n",
       "  ',',\n",
       "  'gustatory',\n",
       "  ',',\n",
       "  'kinesthetic',\n",
       "  '.'],\n",
       " ['NLP',\n",
       "  'practitioner',\n",
       "  'believe',\n",
       "  'information',\n",
       "  'differs',\n",
       "  'individually',\n",
       "  'term',\n",
       "  'quality',\n",
       "  'importance',\n",
       "  ',',\n",
       "  'person',\n",
       "  'process',\n",
       "  'experience',\n",
       "  'using',\n",
       "  'primary',\n",
       "  'representational',\n",
       "  'system',\n",
       "  '(',\n",
       "  'PRS',\n",
       "  ')',\n",
       "  '.'],\n",
       " ['For',\n",
       "  'NLP',\n",
       "  'therapist',\n",
       "  'work',\n",
       "  'effectively',\n",
       "  'person',\n",
       "  'treatment',\n",
       "  ',',\n",
       "  'therapist',\n",
       "  'must',\n",
       "  'attempt',\n",
       "  'match',\n",
       "  'individual',\n",
       "  '’',\n",
       "  'PRS',\n",
       "  'use',\n",
       "  'personal',\n",
       "  'map',\n",
       "  '.'],\n",
       " ['NLP',\n",
       "  'practitioner',\n",
       "  'believe',\n",
       "  'possible',\n",
       "  'access',\n",
       "  'representational',\n",
       "  'system',\n",
       "  'using',\n",
       "  'cue',\n",
       "  ',',\n",
       "  'eye',\n",
       "  'movements.NLP',\n",
       "  'therapist',\n",
       "  'work',\n",
       "  'people',\n",
       "  'understand',\n",
       "  'thinking',\n",
       "  'behavioral',\n",
       "  'pattern',\n",
       "  ',',\n",
       "  'emotional',\n",
       "  'state',\n",
       "  ',',\n",
       "  'aspiration',\n",
       "  '.'],\n",
       " ['By',\n",
       "  'examining',\n",
       "  'person',\n",
       "  '’',\n",
       "  'map',\n",
       "  ',',\n",
       "  'therapist',\n",
       "  'help',\n",
       "  'find',\n",
       "  'strengthen',\n",
       "  'skill',\n",
       "  'serve',\n",
       "  'best',\n",
       "  'assist',\n",
       "  'developing',\n",
       "  'new',\n",
       "  'strategy',\n",
       "  'replace',\n",
       "  'unproductive',\n",
       "  'one',\n",
       "  '.'],\n",
       " ['This',\n",
       "  'process',\n",
       "  'help',\n",
       "  'individual',\n",
       "  'therapy',\n",
       "  'reach',\n",
       "  'treatment',\n",
       "  'goals.Supporters',\n",
       "  'NLP',\n",
       "  'claim',\n",
       "  'approach',\n",
       "  'produce',\n",
       "  'fast',\n",
       "  ',',\n",
       "  'lasting',\n",
       "  'result',\n",
       "  'improves',\n",
       "  'understanding',\n",
       "  'cognitive',\n",
       "  'behavioral',\n",
       "  'pattern',\n",
       "  '.'],\n",
       " ['NLP',\n",
       "  'also',\n",
       "  'seek',\n",
       "  'build',\n",
       "  'effective',\n",
       "  'communication',\n",
       "  'conscious',\n",
       "  'unconscious',\n",
       "  'mental',\n",
       "  'process',\n",
       "  'help',\n",
       "  'people',\n",
       "  'increase',\n",
       "  'creativity',\n",
       "  'problem-solving',\n",
       "  'skill',\n",
       "  '.'],\n",
       " ['Some',\n",
       "  'advocate',\n",
       "  'NLP',\n",
       "  'compare',\n",
       "  'approach',\n",
       "  'cognitive',\n",
       "  'behavioral',\n",
       "  'therapy',\n",
       "  '(',\n",
       "  'CBT',\n",
       "  ')',\n",
       "  'assert',\n",
       "  'positive',\n",
       "  'change',\n",
       "  'may',\n",
       "  'made',\n",
       "  'NLP',\n",
       "  'le',\n",
       "  'time',\n",
       "  '.']]"
      ]
     },
     "execution_count": 19,
     "metadata": {},
     "output_type": "execute_result"
    }
   ],
   "source": [
    "wrds"
   ]
  },
  {
   "cell_type": "code",
   "execution_count": null,
   "metadata": {},
   "outputs": [],
   "source": []
  }
 ],
 "metadata": {
  "kernelspec": {
   "display_name": "Python 3",
   "language": "python",
   "name": "python3"
  },
  "language_info": {
   "codemirror_mode": {
    "name": "ipython",
    "version": 3
   },
   "file_extension": ".py",
   "mimetype": "text/x-python",
   "name": "python",
   "nbconvert_exporter": "python",
   "pygments_lexer": "ipython3",
   "version": "3.8.3"
  }
 },
 "nbformat": 4,
 "nbformat_minor": 4
}
